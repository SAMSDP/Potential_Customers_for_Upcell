{
 "cells": [
  {
   "cell_type": "code",
   "execution_count": 2,
   "id": "b1836648",
   "metadata": {},
   "outputs": [],
   "source": [
    "# Core libraries\n",
    "import pandas as pd\n",
    "import numpy as np\n",
    "\n",
    "# Model\n",
    "from xgboost import XGBClassifier\n",
    "\n",
    "# Train-test split\n",
    "from sklearn.model_selection import train_test_split, GridSearchCV\n",
    "\n",
    "# Metrics\n",
    "from sklearn.metrics import accuracy_score, f1_score, roc_auc_score, classification_report\n",
    "\n",
    "# Handling imbalance\n",
    "from imblearn.over_sampling import SMOTE\n"
   ]
  },
  {
   "cell_type": "code",
   "execution_count": 3,
   "id": "b0059d1e",
   "metadata": {},
   "outputs": [
    {
     "name": "stdout",
     "output_type": "stream",
     "text": [
      "   customerID  gender  SeniorCitizen Partner Dependents  tenure PhoneService  \\\n",
      "0  7590-VHVEG  Female              0     Yes         No       1           No   \n",
      "1  5575-GNVDE    Male              0      No         No      34          Yes   \n",
      "2  3668-QPYBK    Male              0      No         No       2          Yes   \n",
      "3  7795-CFOCW    Male              0      No         No      45           No   \n",
      "4  9237-HQITU  Female              0      No         No       2          Yes   \n",
      "\n",
      "      MultipleLines InternetService OnlineSecurity  ... DeviceProtection  \\\n",
      "0  No phone service             DSL             No  ...               No   \n",
      "1                No             DSL            Yes  ...              Yes   \n",
      "2                No             DSL            Yes  ...               No   \n",
      "3  No phone service             DSL            Yes  ...              Yes   \n",
      "4                No     Fiber optic             No  ...               No   \n",
      "\n",
      "  TechSupport StreamingTV StreamingMovies        Contract PaperlessBilling  \\\n",
      "0          No          No              No  Month-to-month              Yes   \n",
      "1          No          No              No        One year               No   \n",
      "2          No          No              No  Month-to-month              Yes   \n",
      "3         Yes          No              No        One year               No   \n",
      "4          No          No              No  Month-to-month              Yes   \n",
      "\n",
      "               PaymentMethod MonthlyCharges  TotalCharges Churn  \n",
      "0           Electronic check          29.85         29.85    No  \n",
      "1               Mailed check          56.95        1889.5    No  \n",
      "2               Mailed check          53.85        108.15   Yes  \n",
      "3  Bank transfer (automatic)          42.30       1840.75    No  \n",
      "4           Electronic check          70.70        151.65   Yes  \n",
      "\n",
      "[5 rows x 21 columns]\n",
      "Churn\n",
      "No     0.73463\n",
      "Yes    0.26537\n",
      "Name: proportion, dtype: float64\n"
     ]
    }
   ],
   "source": [
    "# Load your dataset (update path if needed)\n",
    "df = pd.read_csv(\"D:\\Workspace\\Projects\\CTS\\Dataset\\WA_Fn-UseC_-Telco-Customer-Churn.csv\")\n",
    "\n",
    "# Quick look\n",
    "print(df.head())\n",
    "print(df[\"Churn\"].value_counts(normalize=True))  # churn distribution\n"
   ]
  },
  {
   "cell_type": "code",
   "execution_count": 4,
   "id": "2c7c7c4e",
   "metadata": {},
   "outputs": [
    {
     "name": "stderr",
     "output_type": "stream",
     "text": [
      "C:\\Users\\samsd\\AppData\\Local\\Temp\\ipykernel_27564\\2341916056.py:3: FutureWarning: A value is trying to be set on a copy of a DataFrame or Series through chained assignment using an inplace method.\n",
      "The behavior will change in pandas 3.0. This inplace method will never work because the intermediate object on which we are setting values always behaves as a copy.\n",
      "\n",
      "For example, when doing 'df[col].method(value, inplace=True)', try using 'df.method({col: value}, inplace=True)' or df[col] = df[col].method(value) instead, to perform the operation inplace on the original object.\n",
      "\n",
      "\n",
      "  df[\"TotalCharges\"].fillna(0, inplace=True)\n"
     ]
    }
   ],
   "source": [
    "# Convert TotalCharges to numeric\n",
    "df[\"TotalCharges\"] = pd.to_numeric(df[\"TotalCharges\"], errors=\"coerce\")\n",
    "df[\"TotalCharges\"].fillna(0, inplace=True)\n",
    "\n",
    "# Drop CustomerID (not useful for model)\n",
    "df.drop(\"customerID\", axis=1, inplace=True)\n",
    "\n",
    "# Encode categorical (get_dummies one-hot)\n",
    "df = pd.get_dummies(df, drop_first=True)\n",
    "\n",
    "# Define features & target\n",
    "X = df.drop(\"Churn_Yes\", axis=1)  # churn target encoded as \"Churn_Yes\"\n",
    "y = df[\"Churn_Yes\"]\n",
    "\n",
    "# Split\n",
    "X_train, X_test, y_train, y_test = train_test_split(\n",
    "    X, y, test_size=0.2, random_state=42, stratify=y\n",
    ")\n"
   ]
  },
  {
   "cell_type": "code",
   "execution_count": 5,
   "id": "2e55986d",
   "metadata": {},
   "outputs": [
    {
     "name": "stdout",
     "output_type": "stream",
     "text": [
      "Before SMOTE: [4139 1495]\n",
      "After SMOTE : [4139 4139]\n"
     ]
    }
   ],
   "source": [
    "smote = SMOTE(random_state=42)\n",
    "X_train_res, y_train_res = smote.fit_resample(X_train, y_train)\n",
    "\n",
    "print(\"Before SMOTE:\", np.bincount(y_train))\n",
    "print(\"After SMOTE :\", np.bincount(y_train_res))\n"
   ]
  },
  {
   "cell_type": "code",
   "execution_count": 14,
   "id": "74ecbeb3",
   "metadata": {},
   "outputs": [
    {
     "name": "stdout",
     "output_type": "stream",
     "text": [
      "Baseline Accuracy : 0.7615330021291696\n",
      "Baseline F1       : 0.58\n",
      "Baseline ROC-AUC  : 0.8132682321940634\n"
     ]
    }
   ],
   "source": [
    "baseline_model = XGBClassifier(\n",
    "    eval_metric=\"logloss\",\n",
    "    use_label_encoder=False,\n",
    "    random_state=42\n",
    ")\n",
    "\n",
    "baseline_model.fit(X_train_res, y_train_res)\n",
    "\n",
    "# ✅ use custom threshold 0.45\n",
    "y_proba = baseline_model.predict_proba(X_test)[:, 1]\n",
    "y_pred = (y_proba >= 0.45).astype(int)\n",
    "\n",
    "# Metrics\n",
    "print(\"Baseline Accuracy :\", accuracy_score(y_test, y_pred))\n",
    "print(\"Baseline F1       :\", f1_score(y_test, y_pred))\n",
    "print(\"Baseline ROC-AUC  :\", roc_auc_score(y_test, y_proba))\n"
   ]
  },
  {
   "cell_type": "code",
   "execution_count": 8,
   "id": "8e821abe",
   "metadata": {},
   "outputs": [
    {
     "name": "stdout",
     "output_type": "stream",
     "text": [
      "Fitting 3 folds for each of 20 candidates, totalling 60 fits\n",
      "Best Parameters: {'subsample': 0.8, 'n_estimators': 100, 'max_depth': 7, 'learning_rate': 0.01, 'colsample_bytree': 0.8}\n"
     ]
    }
   ],
   "source": [
    "from sklearn.model_selection import RandomizedSearchCV\n",
    "\n",
    "params = {\n",
    "    \"max_depth\": [3, 5, 7],\n",
    "    \"learning_rate\": [0.01, 0.05, 0.1, 0.2],\n",
    "    \"n_estimators\": [100, 200, 300],\n",
    "    \"subsample\": [0.8, 1.0],\n",
    "    \"colsample_bytree\": [0.8, 1.0]\n",
    "}\n",
    "\n",
    "random_search = RandomizedSearchCV(\n",
    "    estimator=XGBClassifier(eval_metric=\"logloss\", use_label_encoder=False),\n",
    "    param_distributions=params,\n",
    "    n_iter=20,     # test only 20 random combos\n",
    "    scoring=\"f1\",\n",
    "    cv=3,\n",
    "    n_jobs=2,\n",
    "    verbose=2,\n",
    "    random_state=42\n",
    ")\n",
    "\n",
    "random_search.fit(X_train_res, y_train_res)\n",
    "\n",
    "best_model = random_search.best_estimator_\n",
    "print(\"Best Parameters:\", random_search.best_params_)\n"
   ]
  },
  {
   "cell_type": "code",
   "execution_count": 15,
   "id": "5232d030",
   "metadata": {},
   "outputs": [
    {
     "name": "stdout",
     "output_type": "stream",
     "text": [
      "Tuned Accuracy : 0.7672107877927609\n",
      "Tuned F1       : 0.6104513064133017\n",
      "Tuned ROC-AUC  : 0.8354969128626417\n",
      "\n",
      "Classification Report:\n",
      "               precision    recall  f1-score   support\n",
      "\n",
      "       False       0.88      0.80      0.83      1035\n",
      "        True       0.55      0.69      0.61       374\n",
      "\n",
      "    accuracy                           0.77      1409\n",
      "   macro avg       0.71      0.74      0.72      1409\n",
      "weighted avg       0.79      0.77      0.77      1409\n",
      "\n"
     ]
    }
   ],
   "source": [
    "y_pred_best = best_model.predict(X_test)\n",
    "y_proba_best = best_model.predict_proba(X_test)[:,1]\n",
    "\n",
    "print(\"Tuned Accuracy :\", accuracy_score(y_test, y_pred_best))\n",
    "print(\"Tuned F1       :\", f1_score(y_test, y_pred_best))\n",
    "print(\"Tuned ROC-AUC  :\", roc_auc_score(y_test, y_proba_best))\n",
    "print(\"\\nClassification Report:\\n\", classification_report(y_test, y_pred_best))\n"
   ]
  },
  {
   "cell_type": "code",
   "execution_count": 12,
   "id": "90887a5d",
   "metadata": {},
   "outputs": [
    {
     "name": "stdout",
     "output_type": "stream",
     "text": [
      "Threshold 0.30 → F1 = 0.5700\n",
      "Threshold 0.35 → F1 = 0.5953\n",
      "Threshold 0.40 → F1 = 0.6078\n",
      "Threshold 0.45 → F1 = 0.6152\n",
      "Threshold 0.50 → F1 = 0.6105\n"
     ]
    }
   ],
   "source": [
    "thresholds = [0.3, 0.35, 0.4, 0.45, 0.5]\n",
    "for t in thresholds:\n",
    "    y_pred_adj = (y_proba_best >= t).astype(int)\n",
    "    print(f\"Threshold {t:.2f} → F1 = {f1_score(y_test, y_pred_adj):.4f}\")\n"
   ]
  },
  {
   "cell_type": "code",
   "execution_count": 17,
   "id": "eede7752",
   "metadata": {},
   "outputs": [
    {
     "name": "stdout",
     "output_type": "stream",
     "text": [
      "✅ Model saved as telco_churn_model.pkl\n"
     ]
    }
   ],
   "source": [
    "import joblib\n",
    "\n",
    "# Save tuned model\n",
    "joblib.dump(best_model, \"telco_churn_model.pkl\")\n",
    "print(\"✅ Model saved as telco_churn_model.pkl\")\n"
   ]
  },
  {
   "cell_type": "code",
   "execution_count": 16,
   "id": "03e5bbd0",
   "metadata": {},
   "outputs": [
    {
     "name": "stdout",
     "output_type": "stream",
     "text": [
      "✅ Predictions exported to Telco_Churn_Predictions.xlsx\n"
     ]
    }
   ],
   "source": [
    "# Final predictions with best threshold\n",
    "best_threshold = 0.45  # update after Cell 8\n",
    "y_pred_final = (y_proba_best >= best_threshold).astype(int)\n",
    "\n",
    "# Create output DataFrame\n",
    "output = pd.DataFrame({\n",
    "    \"Phone Number\": df.index[X_test.index],   # replace if phone column exists\n",
    "    \"Churn_Prediction\": y_pred_final,\n",
    "    \"Churn_Probability\": y_proba_best,\n",
    "    \"Usage_Category\": np.where(X_test[\"MonthlyCharges\"] > 70, \"High\", \"Low\"),\n",
    "    \"Recommended_Products\": np.where(y_pred_final==1, \"Discount Offer\", \"Upgrade Plan\")\n",
    "})\n",
    "\n",
    "# Save to Excel\n",
    "output.to_excel(\"Telco_Churn_Predictions.xlsx\", index=False)\n",
    "print(\"✅ Predictions exported to Telco_Churn_Predictions.xlsx\")\n"
   ]
  },
  {
   "cell_type": "code",
   "execution_count": null,
   "id": "3ad547a3",
   "metadata": {},
   "outputs": [],
   "source": []
  }
 ],
 "metadata": {
  "kernelspec": {
   "display_name": "workspace",
   "language": "python",
   "name": "python3"
  },
  "language_info": {
   "codemirror_mode": {
    "name": "ipython",
    "version": 3
   },
   "file_extension": ".py",
   "mimetype": "text/x-python",
   "name": "python",
   "nbconvert_exporter": "python",
   "pygments_lexer": "ipython3",
   "version": "3.10.14"
  }
 },
 "nbformat": 4,
 "nbformat_minor": 5
}
