{
 "cells": [
  {
   "cell_type": "code",
   "execution_count": 1,
   "id": "dc5cf0ac",
   "metadata": {},
   "outputs": [],
   "source": [
    "# 📌 Cell 1: Imports\n",
    "import pandas as pd\n",
    "import joblib\n"
   ]
  },
  {
   "cell_type": "code",
   "execution_count": 2,
   "id": "29c2b64d",
   "metadata": {},
   "outputs": [],
   "source": [
    "# 📌 Cell 2: Load CDR Model\n",
    "cdr_model = joblib.load(r\"D:\\Workspace\\Projects\\CTS\\Potential_Customers_for_Upcell\\Models\\churn_usage_model.pkl\")\n"
   ]
  },
  {
   "cell_type": "code",
   "execution_count": 3,
   "id": "a43e1351",
   "metadata": {},
   "outputs": [],
   "source": [
    "# 📌 Cell 3: Load New Call Log Excel\n",
    "cdr_new = pd.read_csv(\"D:\\Workspace\\Projects\\CTS\\Dataset\\CDR-Call-Details.csv\")  # ensure columns match CDR training features\n",
    "cdr_features = [\"Account Length\",\"VMail Message\",\"Day Mins\",\"Day Calls\",\n",
    "                \"Day Charge\",\"Eve Mins\",\"Eve Calls\",\"Eve Charge\",\n",
    "                \"Night Mins\",\"Night Calls\",\"Night Charge\",\"Intl Mins\",\"Intl Calls\",\"Intl Charge\",\"CustServ Calls\"]\n"
   ]
  },
  {
   "cell_type": "code",
   "execution_count": 4,
   "id": "17778b0c",
   "metadata": {},
   "outputs": [],
   "source": [
    "# 📌 Cell 4: Apply CDR Model to New Data\n",
    "cdr_input = cdr_new[cdr_features].fillna(0).values\n",
    "cdr_preds = cdr_model.predict(cdr_input)\n",
    "\n",
    "# Split outputs\n",
    "cdr_new[\"Churn_Prediction\"] = [p[0] for p in cdr_preds]\n",
    "cdr_new[\"Usage_Category\"] = [p[1] for p in cdr_preds]\n"
   ]
  },
  {
   "cell_type": "code",
   "execution_count": null,
   "id": "00719be7",
   "metadata": {},
   "outputs": [],
   "source": [
    "# 📌 Cell 5: Rule-based Recommendation Function\n",
    "def recommend_products(row):\n",
    "    recs = []\n",
    "    if row[\"Churn_Prediction\"] == 1:\n",
    "        recs.append(\"Retention Offer / Free Support Bundle\")\n",
    "    if row[\"Usage_Category\"] == 0:\n",
    "        recs.append(\"Basic Retention Offer\")\n",
    "    elif row[\"Usage_Category\"] == 1:\n",
    "        recs.append(\"Accessories / Minor Upsell\")\n",
    "    elif row[\"Usage_Category\"] == 2:\n",
    "        recs.append(\"Software Products / Premium Add-ons\")\n",
    "    return recs\n"
   ]
  },
  {
   "cell_type": "code",
   "execution_count": 6,
   "id": "44816931",
   "metadata": {},
   "outputs": [],
   "source": [
    "# 📌 Cell 6: Apply Recommendations\n",
    "cdr_new[\"Recommended_Products\"] = cdr_new.apply(recommend_products, axis=1)\n"
   ]
  },
  {
   "cell_type": "code",
   "execution_count": 7,
   "id": "63376090",
   "metadata": {},
   "outputs": [
    {
     "name": "stdout",
     "output_type": "stream",
     "text": [
      "  Phone Number  Churn_Prediction  Usage_Category         Recommended_Products\n",
      "0     382-4657                 0               0  [Basic Reten    tion Offer]\n",
      "1     371-7191                 0               0  [Basic Reten    tion Offer]\n",
      "2     358-1921                 0               0  [Basic Reten    tion Offer]\n",
      "3     375-9999                 0               0  [Basic Reten    tion Offer]\n",
      "4     330-6626                 0               0  [Basic Reten    tion Offer]\n"
     ]
    }
   ],
   "source": [
    "# 📌 Cell 7: Final Output\n",
    "final_output = cdr_new[[\"Phone Number\",\"Churn_Prediction\",\"Usage_Category\",\"Recommended_Products\"]]\n",
    "print(final_output.head())\n"
   ]
  },
  {
   "cell_type": "code",
   "execution_count": 8,
   "id": "2d986354",
   "metadata": {},
   "outputs": [],
   "source": [
    "# 📌 Cell 8: Optionally Save Output\n",
    "final_output.to_excel(\"cdr_recommendations.xlsx\", index=False)\n"
   ]
  },
  {
   "cell_type": "code",
   "execution_count": null,
   "id": "ca666571",
   "metadata": {},
   "outputs": [],
   "source": []
  }
 ],
 "metadata": {
  "kernelspec": {
   "display_name": "workspace",
   "language": "python",
   "name": "python3"
  },
  "language_info": {
   "codemirror_mode": {
    "name": "ipython",
    "version": 3
   },
   "file_extension": ".py",
   "mimetype": "text/x-python",
   "name": "python",
   "nbconvert_exporter": "python",
   "pygments_lexer": "ipython3",
   "version": "3.10.14"
  }
 },
 "nbformat": 4,
 "nbformat_minor": 5
}
